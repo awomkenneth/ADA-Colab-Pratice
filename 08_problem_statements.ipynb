{
  "nbformat": 4,
  "nbformat_minor": 0,
  "metadata": {
    "colab": {
      "private_outputs": true,
      "provenance": [],
      "include_colab_link": true
    },
    "kernelspec": {
      "name": "python3",
      "display_name": "Python 3"
    }
  },
  "cells": [
    {
      "cell_type": "markdown",
      "metadata": {
        "id": "view-in-github",
        "colab_type": "text"
      },
      "source": [
        "<a href=\"https://colab.research.google.com/github/awomkenneth/ADA-Colab-Pratice/blob/main/08_problem_statements.ipynb\" target=\"_parent\"><img src=\"https://colab.research.google.com/assets/colab-badge.svg\" alt=\"Open In Colab\"/></a>"
      ]
    },
    {
      "cell_type": "markdown",
      "metadata": {
        "id": "WuHUIsra76PZ"
      },
      "source": [
        "**Problem Statements**\n",
        "\n",
        "_Ada Build - Intro to Python - Lesson 8_"
      ]
    },
    {
      "cell_type": "markdown",
      "metadata": {
        "id": "n3LcT44w8CCo"
      },
      "source": [
        "# Learning Goals\n",
        "\n",
        "By the end of this lesson we will be able to:\n",
        "\n",
        "* Understand how to break down a problem into logical steps\n",
        "* Use pseudocode to outline a programming solution\n",
        "* Integrate the programming concepts from previous lessons to write a complete solution\n",
        "\n"
      ]
    },
    {
      "cell_type": "markdown",
      "metadata": {
        "id": "w14h_rm9OrsU"
      },
      "source": [
        "# Notes"
      ]
    },
    {
      "cell_type": "markdown",
      "metadata": {
        "id": "0EhQyTHWAY2G"
      },
      "source": [
        "## Copy to Drive\n",
        "\n",
        "Before you get started, remember to copy this Colab notebook to your Google Drive so that you can save your work."
      ]
    },
    {
      "cell_type": "markdown",
      "metadata": {
        "id": "pxrHV42sVNU7"
      },
      "source": [
        "## Introduction\n",
        "Now that you have learned the [Fundamentals of Python](http://ada-developers-academy.github.io/ada-build/), you may wonder how we can use all these concepts together.\n",
        "\n",
        "Whether it's in a whiteboard interview for a new job or talking through a hard problem with a teammate, developers need to break down problems and integrate their knowledge to write solutions.\n",
        "\n",
        "In this lesson we will review strategies to go from a list of requirements, often categorized as a **problem statement**, to a solution. Some of the steps that support breaking down a problem statement include:\n",
        "- Sharing our understanding of the problem\n",
        "- Asking clarifying questions\n",
        "- Writing pseudocode to outline the solution\n",
        "- Solving small coding problems while working towards a bigger solution\n",
        "\n",
        "In this process, we will identify keywords to that help us understand the solution. We may even identify keywords that require a deeper dive in understanding to discover or get more familiar with new coding topics.\n",
        "\n",
        "One place this practice will be immediately useful is with the practice code challenge for the Ada Developers Academy application.\n",
        "\n",
        "Lets take a look at the example below."
      ]
    },
    {
      "cell_type": "markdown",
      "source": [
        "## Problem Statement\n",
        "\n",
        "You are going to write a function that will help Ada track the sales from her vending machine. At Ada’s Vending machine, a customer can deposit an amount of money to purchase the available items from the machine.\n",
        "\n",
        "The function has three parameters:\n",
        "* **inventory**, a list of dictionaries where each dictionary represents an item in the vending machine. The item has a `name`, `item_number` (location in vending machine), `price`, and `quantity`.\n",
        "* **choice**, the item `number` the customer selected.\n",
        "* **funds**, the amount of money the customer input.\n",
        "\n",
        "The program should:\n",
        "* Display items within the vending machine to customers.\n",
        "* Check if the user made a valid `choice` and has enough `funds`\n",
        "* If the `choice` is invalid, print string `\"That is an invalid choice\"`\n",
        "* If the `choice` is valid, check to ensure the user has enough `funds` to purchase an item.\n",
        "    * If `funds` are sufficient:\n",
        "        * Calculate and print the change given: `\"Thank you for your purchase! Your change is $<0.XX>\"`\n",
        "        * Remove one from the appropriate vending machine `quantity` and print the updated inventory.\n",
        "    * If not sufficient amount, print string `\"That is not enough money to purchase <name>\"`\n",
        "\n"
      ],
      "metadata": {
        "id": "V3utS9Ndc_2R"
      }
    },
    {
      "cell_type": "markdown",
      "source": [
        "### Example Input\n",
        "\n",
        "The input is written in a code cell to provide formatting that makes it easy to read."
      ],
      "metadata": {
        "id": "tsx_CU_VEeIY"
      }
    },
    {
      "cell_type": "code",
      "source": [
        "inventory = [\n",
        "             {\n",
        "                'name': 'Ada Chips',\n",
        "                'item_number': 'A1',\n",
        "                'price': 0.50,\n",
        "                'quantity': 5\n",
        "\n",
        "             },\n",
        "             {\n",
        "                'name': 'Ada Candy Bar',\n",
        "                'item_number': 'A2',\n",
        "                'price': 0.75,\n",
        "                'quantity': 5\n",
        "             },\n",
        "             {\n",
        "                'name': 'Ada Gum',\n",
        "                'item_number': 'A3',\n",
        "                'price': 0.25,\n",
        "                'quantity': 5\n",
        "             },\n",
        "            ]\n",
        "\n",
        "choice = 'A1'\n",
        "\n",
        "funds = 1.00"
      ],
      "metadata": {
        "id": "nbzvL08nDxaT"
      },
      "execution_count": null,
      "outputs": []
    },
    {
      "cell_type": "markdown",
      "source": [
        "### Example Print Output\n",
        "\n",
        "```bash\n",
        "Welcome to Ada's Vending Machine!\n",
        "Here are the available items:\n",
        "-\n",
        "Name: Ada Chips\n",
        "Vending Machine Number: A1\n",
        "Price: $0.50\n",
        "Quantity: 5\n",
        "-\n",
        "Name: Ada Candy Bar\n",
        "Vending Machine Number: A2\n",
        "Price: $0.75\n",
        "Quantity: 5\n",
        "-\n",
        "Name: Ada Gum\n",
        "Vending Machine Number: A3\n",
        "Price: $0.25\n",
        "Quantity: 5\n",
        "\n",
        "Thank you for your purchase! Here's your change of $0.75\n",
        "\n",
        "This is the updated inventory:\n",
        "-\n",
        "Name: Ada Chips\n",
        "Vending Machine Number: A1\n",
        "Price: $0.50\n",
        "Quantity: 5\n",
        "-\n",
        "Name: Ada Candy Bar\n",
        "Vending Machine Number: A2\n",
        "Price: $0.75\n",
        "Quantity: 5\n",
        "-\n",
        "Name: Ada Gum\n",
        "Vending Machine Number: A3\n",
        "Price: $0.25\n",
        "Quantity: 4\n",
        "```\n",
        "\n"
      ],
      "metadata": {
        "id": "AEe2ha0GEpiy"
      }
    },
    {
      "cell_type": "markdown",
      "source": [
        "## Unpacking the problem statement"
      ],
      "metadata": {
        "id": "tKyljyFoQJ9R"
      }
    },
    {
      "cell_type": "markdown",
      "source": [
        "### General Idea\n",
        "\n",
        "First let's take a look at the general idea from the problem statement:\n",
        "\n",
        "`You are going to write a function that will help Ada track the sales from her vending machine. At Ada’s Vending machine, a customer can deposit an amount of money to purchase the available items from the machine.`\n",
        "\n",
        "First thing to notice is that we are going to have to create or write code within a [Function](https://colab.research.google.com/drive/1e8CaljqZrKJyFm7Ry5qHynp7GdoVHFLk?usp=sharing). The next thing to notice is what is the scope of what we are aiming to create:\n",
        "* Is it something never thought of?\n",
        "* Does it mimic something that's already been invented?\n",
        "* What kind of examples exist to help us understand what we need to code?\n",
        "* Are there hints within the statement that direct us to use fundamentals we already know or have to learn about?\n",
        "\n",
        "There is a lot to potentially consider, but let's see if there is further detail as we read more from the statement.\n",
        "\n",
        "A lot of questions might rise as you are beginning to unpack the given problem statement, but in the case of a coding challenge or the [Practice Test](https://replit.com/@adadev/Admissions-Sample) there is more!!!!!\n",
        "\n",
        "\n"
      ],
      "metadata": {
        "id": "mAZE2yponFfS"
      }
    },
    {
      "cell_type": "markdown",
      "source": [
        "### Input\n",
        "\n",
        "Next we'll consider the function's input:\n",
        "\n",
        "`The function has three parameters:`\n",
        "\n",
        "* `inventory, a list of dictionaries where each dictionary represents an item in the vending machine. The item has a name, item_number (location in vending machine), price, and quantity.`\n",
        "* `choice, the item number the customer selected.`\n",
        "* `funds, the amount of money the customer input.`\n",
        "\n",
        "Now we should start to see keywords or phrases that relate closer to the fundamentals we have learned or give us something to look up on [Google](https://www.google.com/).  \n",
        "\n",
        "In this case, the text references [List](https://colab.research.google.com/drive/1TK9Enhh0mITZ1649l-r4_gzeg2B3eRRu?usp=sharing), [Dictionaries](https://colab.research.google.com/drive/1AmKeKvSJnNacUUIU9OLSInVohWJrPLkF?usp=sharing), and [Strings](https://colab.research.google.com/drive/1kfE-bujlwiJoDxTWIXa8u1GPGDJAnjvS?usp=sharing). We take this moment to see how these are being used or how they will be used. There should be enough information here to give us an idea of what we are about to develop. We can notice that our function will take in specific variable types and the data that has been assigned.\n"
      ],
      "metadata": {
        "id": "VUfZ6Ze_nLbo"
      }
    },
    {
      "cell_type": "markdown",
      "source": [
        "### Requirements\n",
        "\n",
        "Finally let's consider the function's detailed requirements:\n",
        "\n",
        "`The program should:`\n",
        "* `Display items within the vending machine to customers.`\n",
        "* `Check to ensure the user has a valid item selected.`\n",
        "  * `Fix input to include item number in vending machine.`\n",
        "* `Check to ensure the user has a valid amount to purchase an item.`\n",
        "* `If sufficient amount:`\n",
        "  * `Remove one from the vending machine quantity.`\n",
        "  * `Subtract price from amount deposited, and disperse any change.`\n",
        "* `If not sufficient amount:`\n",
        "  * `Fix input to include a deposit of more funds.`\n",
        "\n",
        "The requirements provide a little more guidance as to what is actually being asked of us. Here we should notice words that resemble plans of action that we will need to take note of as tasks to accomplish. Those tasks might include all but not limited to:\n",
        "* manipulating data\n",
        "* creating data types\n",
        "* data validation\n",
        "\n"
      ],
      "metadata": {
        "id": "4DUIjwA9nR5t"
      }
    },
    {
      "cell_type": "markdown",
      "source": [
        "## Making a plan ##\n",
        "\n",
        "There is no right or wrong approach to coming up with a solution. Before jumping right into coding, consider writing everything thing out in sequencial steps or an outline.  The most important part of this step is that we do recognize the entirety of what is asked of us to be accomplished. We all comprehend things differently so there is nothing wrong with reading a problem statement multiple times and developing additional questions for clarification. But, we do want to use as much of what has been given to come up with a solution.\n",
        "\n",
        "So how might we come up with a solution? Here are some things to use/consider:\n",
        "\n",
        "1. Identify any examples to help us better understand how to develop a solution.\n",
        "2. Identify any data/inputs that have been given to be used in order to develop our solution.\n",
        "3. Identify possible patterns with example outputs to visualize how we could potentially manipulate the data that has been supplied.\n",
        "4. Identify which python fundamental(s) could be used to solve the given problem. **Strings, branching, functions, loops, list, dictionaires?**\n",
        "5. Develop a to do list/task list/flow chart to walk through our solution before we actually code it. Pseudocode is the quickest way to logically think of a solution without deeply diving into code that could potentially confuse us.\n",
        "6. Your solution is unique to you and your thought process. Be sure to be thorough and detailed enough to support your reasons behind your solution when presenting them to others.\n",
        "7. Be open to being critiqued when someone doesn't completely understand your solution, but offers potential improvements to enhance your solution.\n",
        "8. Unless noted, talk through problem statements with your peers to see if you potentially missed details to help formulate your solution."
      ],
      "metadata": {
        "id": "5-Yo_KYEcyYA"
      }
    },
    {
      "cell_type": "markdown",
      "source": [
        "## Example Solution ##\n",
        "\n",
        "So our problem tells us the inputs we will use to manipulate within our function. We can use the print function and use variables as arguments to view our data. Also, feel free to print the types of each variable to get an understanding of how to manipulate them. Uncomment each print statement and try the code."
      ],
      "metadata": {
        "id": "rVJpAh5-j5Ty"
      }
    },
    {
      "cell_type": "code",
      "source": [
        "inventory = [{'name': 'Ada Chips', 'item_number': 'A1', 'price': 0.50, 'quantity': 5},\n",
        "                      {'name': 'Ada Candy Bar', 'item_number': 'A2', 'price': 0.75, 'quantity': 5},\n",
        "                      {'name': 'Ada Gum', 'item_number': 'A3', 'price': 0.25, 'quantity': 5},\n",
        "                      {'name': 'Ada Cookies', 'item_number': 'A4', 'price': 1.50, 'quantity': 5}]\n",
        "\n",
        "choice = 'A1'\n",
        "\n",
        "funds = 1.00\n",
        "\n",
        "print(inventory)\n",
        "\n",
        "print(choice)"
      ],
      "metadata": {
        "id": "CONFCjd4lAws"
      },
      "execution_count": null,
      "outputs": []
    },
    {
      "cell_type": "markdown",
      "source": [
        "We already know that **ada_vending_machine** is a list that contains the contents(python dictionaries) of our vending machine. We also know that **choice** and **funds** will hold our item number selection from the vending machine and an amount of money we plan to deposit respectively.\n",
        "\n",
        "Below is a sample of logic we could use to ensure we accomplish the objectives our program should do.  "
      ],
      "metadata": {
        "id": "IK1btwyxmk18"
      }
    },
    {
      "cell_type": "code",
      "source": [
        "def vending_machine(inventory, choice, funds):\n",
        "\n",
        "    # Display message\n",
        "    print(\"Welcome to Ada's Vending Machine!\")\n",
        "\n",
        "    # Display contents of vending machine\n",
        "    print(inventory)\n",
        "\n",
        "    # Validate user_input\n",
        "    item_selected = False\n",
        "    sufficient_funds = False\n",
        "\n",
        "    for item in inventory:\n",
        "\n",
        "        #Check for valid item number\n",
        "        if choice == item.get('item_number'):\n",
        "\n",
        "            item_selected = True\n",
        "\n",
        "            # Check sufficient funds are deposited\n",
        "            if funds >= item.get('price'):\n",
        "\n",
        "                sufficient_funds = True\n",
        "\n",
        "                # Deduct cost of item from deposited amount\n",
        "                remaining_funds = funds - item.get('price')\n",
        "\n",
        "                # Disburse change to customer\n",
        "                print(f'Change disbursed: {remaining_funds}')\n",
        "\n",
        "                item['quantity'] = item.get('quantity') - 1\n",
        "\n",
        "    # Check to see if invalid item number was supplied\n",
        "    if item_selected == False:\n",
        "\n",
        "        # Alert that customer needs to update input\n",
        "        print(\"Please update input to select an item number in the vending machine\")\n",
        "\n",
        "    # Check to see if insufficient funds were supplied\n",
        "    elif sufficient_funds == False:\n",
        "\n",
        "        # Alert that customer needs to update input\n",
        "        print(\"Please update input with amount of sufficient funds for the selected item number in the vending machine\")\n",
        "\n",
        "    else:\n",
        "\n",
        "        # Display our updated vending machine\n",
        "        print(inventory)\n"
      ],
      "metadata": {
        "id": "1yxkmq3qnUx7"
      },
      "execution_count": null,
      "outputs": []
    },
    {
      "cell_type": "markdown",
      "source": [
        "**NOTE:** The code blocks below may produce errors because code isn't properly placed to work logically.  "
      ],
      "metadata": {
        "id": "kbSl8c-isR3D"
      }
    },
    {
      "cell_type": "markdown",
      "source": [
        "`Display items within the vending machine to customers.`"
      ],
      "metadata": {
        "id": "ZmJA-YRKpx4J"
      }
    },
    {
      "cell_type": "code",
      "source": [
        "def vending_machine(inventory, choice, funds):\n",
        "  # Display message\n",
        "  print(\"Welcome to Ada's Vending Machine!\")\n",
        "\n",
        "  print(\"Here are the available items:\")\n",
        "\n",
        "  #Display vending machine items\n",
        "  for item in inventory:\n",
        "\n",
        "    print('-')\n",
        "\n",
        "    for item_info in item:\n",
        "\n",
        "      print(f\"{item_info.capitalize()} : {item[item_info]}\")\n",
        "\n",
        "inventory = [{'name': 'Ada Chips', 'item_number': 'A1', 'price': 0.50, 'quantity': 5},\n",
        "                      {'name': 'Ada Candy Bar', 'item_number': 'A2', 'price': 0.75, 'quantity': 5},\n",
        "                      {'name': 'Ada Gum', 'item_number': 'A3', 'price': 0.25, 'quantity': 5},\n",
        "                      {'name': 'Ada Cookies', 'item_number': 'A4', 'price': 1.50, 'quantity': 5}]\n",
        "\n",
        "choice = 'A1'\n",
        "\n",
        "funds = 1.00\n",
        "\n",
        "vending_machine(inventory, choice, funds)"
      ],
      "metadata": {
        "id": "ivfnAcYxq6hI"
      },
      "execution_count": null,
      "outputs": []
    },
    {
      "cell_type": "markdown",
      "source": [
        "`Check to ensure the user has a valid item selected.`\n",
        "* `Fix input to include item number in vending machine.`"
      ],
      "metadata": {
        "id": "Zso531CSp_Ik"
      }
    },
    {
      "cell_type": "code",
      "source": [
        "def vending_machine(inventory, choice, funds):\n",
        "  # Validate user_input\n",
        "  item_selected = False\n",
        "\n",
        "  for item in inventory:\n",
        "\n",
        "    #Check for valid item number\n",
        "    if choice == item.get('item_number'):\n",
        "\n",
        "      item_selected = True\n",
        "\n",
        "      print(f\"Item Number {choice} is valid\")\n",
        "\n",
        "  # Check to see if invalid item number was supplied\n",
        "  if item_selected == False:\n",
        "\n",
        "      # Alert that customer needs to update input\n",
        "      print(\"Please update input to select an item number in the vending machine\")\n",
        "\n",
        "\n",
        "inventory = [{'name': 'Ada Chips', 'item_number': 'A1', 'price': 0.50, 'quantity': 5},\n",
        "                      {'name': 'Ada Candy Bar', 'item_number': 'A2', 'price': 0.75, 'quantity': 5},\n",
        "                      {'name': 'Ada Gum', 'item_number': 'A3', 'price': 0.25, 'quantity': 5},\n",
        "                      {'name': 'Ada Cookies', 'item_number': 'A4', 'price': 1.50, 'quantity': 5}]\n",
        "\n",
        "choice = 'A1'\n",
        "\n",
        "funds = 1.00\n",
        "\n",
        "vending_machine(inventory, choice, funds)"
      ],
      "metadata": {
        "id": "seGz7zXSrAkF"
      },
      "execution_count": null,
      "outputs": []
    },
    {
      "cell_type": "markdown",
      "source": [
        "`Check to ensure the user has a valid amount to purchase item.`\n",
        "* `If sufficient amount:`\n",
        "  * `Remove one from the vending machine quantity.`\n",
        "  * `Subtract price from amount deposited, and disperse any change.`\n",
        "* `If not sufficient amount:`\n",
        "  * `Fix input to include a deposit of more funds.`"
      ],
      "metadata": {
        "id": "bW42Jp5zqFl2"
      }
    },
    {
      "cell_type": "code",
      "source": [
        "def vending_machine(inventory, choice, funds):\n",
        "  # Validate user_input\n",
        "  sufficient_funds = False\n",
        "\n",
        "  for item in inventory:\n",
        "\n",
        "    #Check for valid item number\n",
        "    if choice == item.get('item_number'):\n",
        "\n",
        "      item_selected = True\n",
        "\n",
        "      print(f\"Item Number {choice} is valid\")\n",
        "\n",
        "      # Check sufficient funds are deposited\n",
        "      if funds >= item.get('price'):\n",
        "\n",
        "          sufficient_funds = True\n",
        "\n",
        "          # Deduct cost of item from deposited amount\n",
        "          remaining_funds = funds - item.get('price')\n",
        "\n",
        "          # Disburse change to customer\n",
        "          print(f'Change disbursed: {remaining_funds}')\n",
        "\n",
        "          item['quantity'] = item.get('quantity') - 1\n",
        "\n",
        "          print(inventory)\n",
        "\n",
        "    # Check to see if invalid item number was supplied\n",
        "    if item_selected == False:\n",
        "\n",
        "        # Alert that customer needs to update input\n",
        "        print(\"Please update input to select an item number in the vending machine\")\n",
        "\n",
        "    # Check to see if insufficient funde were supplied\n",
        "    elif sufficient_funds == False:\n",
        "\n",
        "        # Alert that customer needs to update input\n",
        "        print(\"Please update input with amount of sufficient funds for the selected item number in the vending machine\")\n",
        "\n",
        "inventory = [{'name': 'Ada Chips', 'item_number': 'A1', 'price': 0.50, 'quantity': 5},\n",
        "                      {'name': 'Ada Candy Bar', 'item_number': 'A2', 'price': 0.75, 'quantity': 5},\n",
        "                      {'name': 'Ada Gum', 'item_number': 'A3', 'price': 0.25, 'quantity': 5},\n",
        "                      {'name': 'Ada Cookies', 'item_number': 'A4', 'price': 1.50, 'quantity': 5}]\n",
        "\n",
        "choice = 'A1'\n",
        "\n",
        "funds = 1.00\n",
        "\n",
        "vending_machine(inventory, choice, funds)\n"
      ],
      "metadata": {
        "id": "ij8JkMNaq5Ik"
      },
      "execution_count": null,
      "outputs": []
    },
    {
      "cell_type": "markdown",
      "source": [
        "[Full example solution can be found here](https://replit.com/@ClarenceEdmonds/AdaVendingMachine#main.py)"
      ],
      "metadata": {
        "id": "WOEG_NsgtXhY"
      }
    }
  ]
}